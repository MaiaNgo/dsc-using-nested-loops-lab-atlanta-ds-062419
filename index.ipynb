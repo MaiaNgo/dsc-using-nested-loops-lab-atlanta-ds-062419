{
 "cells": [
  {
   "cell_type": "markdown",
   "metadata": {},
   "source": [
    "# Using Nested Loops - Lab"
   ]
  },
  {
   "cell_type": "markdown",
   "metadata": {},
   "source": [
    "## Introduction\n",
    "In this lab, you'll practice using nested loops to iterate over nested data structures and create new collections. To do this, you'll be using data from a soccer match to practice our nested loops."
   ]
  },
  {
   "cell_type": "markdown",
   "metadata": {},
   "source": [
    "## Objectives\n",
    "You will be able to:\n",
    "* Combine different types of loops\n",
    "* Understand, explain and use nested loops to iterate through nested data structures"
   ]
  },
  {
   "cell_type": "markdown",
   "metadata": {},
   "source": [
    "## Instructions"
   ]
  },
  {
   "cell_type": "markdown",
   "metadata": {},
   "source": [
    "Use nested loops and the below object, `soccer_match`, to complete the following prompts and get the desired return values.\n",
    "\n",
    "Each object's structure is identical, but make sure to have a good idea of what that structure looks like before getting started. "
   ]
  },
  {
   "cell_type": "code",
   "execution_count": 2,
   "metadata": {},
   "outputs": [],
   "source": [
    "soccer_match = [\n",
    "  { \"home_team\": True,\n",
    "    \"away_team\": False,\n",
    "    \"country\": \"France\",\n",
    "    \"num_passes\": 484,\n",
    "    \"passes_completed\": 423,\n",
    "    \"fouls_committed\": 16,\n",
    "    \"colors\": [\"blue\", \"white\", \"red\"],\n",
    "    \"players\": [\n",
    "      {\n",
    "        \"name\": \"Hugo LLORIS\",\n",
    "        \"captain\": True,\n",
    "        \"shirt_number\": 1,\n",
    "        \"position\": \"Goalie\"\n",
    "      },\n",
    "      {\n",
    "        \"name\": \"Benjamin PAVARD\",\n",
    "        \"captain\": False,\n",
    "        \"shirt_number\": 2,\n",
    "        \"position\": \"Defender\"\n",
    "      },\n",
    "      {\n",
    "        \"name\": \"Raphael VARANE\",\n",
    "        \"captain\": False,\n",
    "        \"shirt_number\": 4,\n",
    "        \"position\": \"Defender\"\n",
    "      },\n",
    "      {\n",
    "        \"name\": \"Samuel UMTITI\",\n",
    "        \"captain\": False,\n",
    "        \"shirt_number\": 5,\n",
    "        \"position\": \"Defender\"\n",
    "      },\n",
    "      {\n",
    "        \"name\": \"Paul POGBA\",\n",
    "        \"captain\": False,\n",
    "        \"shirt_number\": 6,\n",
    "        \"position\": \"Midfield\"\n",
    "      },\n",
    "      {\n",
    "        \"name\": \"Antoine GRIEZMANN\",\n",
    "        \"captain\": False,\n",
    "        \"shirt_number\": 7,\n",
    "        \"position\": \"Forward\"\n",
    "      },\n",
    "      {\n",
    "        \"name\": \"Kylian MBAPPE\",\n",
    "        \"captain\": False,\n",
    "        \"shirt_number\": 10,\n",
    "        \"position\": \"Forward\"\n",
    "      },\n",
    "      {\n",
    "        \"name\": \"Ousmane DEMBELE\",\n",
    "        \"captain\": False,\n",
    "        \"shirt_number\": 11,\n",
    "        \"position\": \"Forward\"\n",
    "      },\n",
    "      {\n",
    "        \"name\": \"Corentin TOLISSO\",\n",
    "        \"captain\": False,\n",
    "        \"shirt_number\": 12,\n",
    "        \"position\": \"Midfield\"\n",
    "      },\n",
    "      {\n",
    "        \"name\": \"Ngolo KANTE\",\n",
    "        \"captain\": False,\n",
    "        \"shirt_number\": 13,\n",
    "        \"position\": \"Midfield\"\n",
    "      },\n",
    "      {\n",
    "        \"name\": \"Lucas HERNANDEZ\",\n",
    "        \"captain\": False,\n",
    "        \"shirt_number\": 21,\n",
    "        \"position\": \"Defender\"\n",
    "      }\n",
    "    ],\n",
    "  },\n",
    "  { \"home_team\": False,\n",
    "    \"away_team\": True,\n",
    "    \"country\": \"Australia\",\n",
    "    \"num_passes\": 390,\n",
    "    \"passes_completed\": 332,\n",
    "    \"fouls_committed\": 19,\n",
    "    \"colors\": [\"green\", \"gold\"],\n",
    "    \"players\": [\n",
    "      {\n",
    "        \"name\": \"Mathew RYAN\",\n",
    "        \"captain\": False,\n",
    "        \"shirt_number\": 1,\n",
    "        \"position\": \"Goalie\"\n",
    "      },\n",
    "      {\n",
    "        \"name\": \"Mark MILLIGAN\",\n",
    "        \"captain\": False,\n",
    "        \"shirt_number\": 5,\n",
    "        \"position\": \"Defender\"\n",
    "      },\n",
    "      {\n",
    "        \"name\": \"Mathew LECKIE\",\n",
    "        \"captain\": False,\n",
    "        \"shirt_number\": 7,\n",
    "        \"position\": \"Forward\"\n",
    "      },\n",
    "      {\n",
    "        \"name\": \"Robbie KRUSE\",\n",
    "        \"captain\": False,\n",
    "        \"shirt_number\": 10,\n",
    "        \"position\": \"Forward\"\n",
    "      },\n",
    "      {\n",
    "        \"name\": \"Andrew NABBOUT\",\n",
    "        \"captain\": False,\n",
    "        \"shirt_number\": 11,\n",
    "        \"position\": \"Forward\"\n",
    "      },\n",
    "      {\n",
    "        \"name\": \"Aaron MOOY\",\n",
    "        \"captain\": False,\n",
    "        \"shirt_number\": 13,\n",
    "        \"position\": \"Midfield\"\n",
    "      },\n",
    "      {\n",
    "        \"name\": \"Mile JEDINAK\",\n",
    "        \"captain\": True,\n",
    "        \"shirt_number\": 15,\n",
    "        \"position\": \"Midfield\"\n",
    "      },\n",
    "      {\n",
    "        \"name\": \"Aziz BEHICH\",\n",
    "        \"captain\": False,\n",
    "        \"shirt_number\": 16,\n",
    "        \"position\": \"Defender\"\n",
    "      },\n",
    "      {\n",
    "        \"name\": \"Joshua RISDON\",\n",
    "        \"captain\": False,\n",
    "        \"shirt_number\": 19,\n",
    "        \"position\": \"Defender\"\n",
    "      },\n",
    "      {\n",
    "        \"name\": \"Trent SAINSBURY\",\n",
    "        \"captain\": False,\n",
    "        \"shirt_number\": 20,\n",
    "        \"position\": \"Defender\"\n",
    "      },\n",
    "      {\n",
    "        \"name\": \"Tom ROGIC\",\n",
    "        \"captain\": False,\n",
    "        \"shirt_number\": 23,\n",
    "        \"position\": \"Midfield\"\n",
    "      }\n",
    "    ]\n",
    "  }\n",
    "]"
   ]
  },
  {
   "cell_type": "code",
   "execution_count": 3,
   "metadata": {},
   "outputs": [
    {
     "data": {
      "text/plain": [
       "[{'home_team': True,\n",
       "  'away_team': False,\n",
       "  'country': 'France',\n",
       "  'num_passes': 484,\n",
       "  'passes_completed': 423,\n",
       "  'fouls_committed': 16,\n",
       "  'colors': ['blue', 'white', 'red'],\n",
       "  'players': [{'name': 'Hugo LLORIS',\n",
       "    'captain': True,\n",
       "    'shirt_number': 1,\n",
       "    'position': 'Goalie'},\n",
       "   {'name': 'Benjamin PAVARD',\n",
       "    'captain': False,\n",
       "    'shirt_number': 2,\n",
       "    'position': 'Defender'},\n",
       "   {'name': 'Raphael VARANE',\n",
       "    'captain': False,\n",
       "    'shirt_number': 4,\n",
       "    'position': 'Defender'},\n",
       "   {'name': 'Samuel UMTITI',\n",
       "    'captain': False,\n",
       "    'shirt_number': 5,\n",
       "    'position': 'Defender'},\n",
       "   {'name': 'Paul POGBA',\n",
       "    'captain': False,\n",
       "    'shirt_number': 6,\n",
       "    'position': 'Midfield'},\n",
       "   {'name': 'Antoine GRIEZMANN',\n",
       "    'captain': False,\n",
       "    'shirt_number': 7,\n",
       "    'position': 'Forward'},\n",
       "   {'name': 'Kylian MBAPPE',\n",
       "    'captain': False,\n",
       "    'shirt_number': 10,\n",
       "    'position': 'Forward'},\n",
       "   {'name': 'Ousmane DEMBELE',\n",
       "    'captain': False,\n",
       "    'shirt_number': 11,\n",
       "    'position': 'Forward'},\n",
       "   {'name': 'Corentin TOLISSO',\n",
       "    'captain': False,\n",
       "    'shirt_number': 12,\n",
       "    'position': 'Midfield'},\n",
       "   {'name': 'Ngolo KANTE',\n",
       "    'captain': False,\n",
       "    'shirt_number': 13,\n",
       "    'position': 'Midfield'},\n",
       "   {'name': 'Lucas HERNANDEZ',\n",
       "    'captain': False,\n",
       "    'shirt_number': 21,\n",
       "    'position': 'Defender'}]},\n",
       " {'home_team': False,\n",
       "  'away_team': True,\n",
       "  'country': 'Australia',\n",
       "  'num_passes': 390,\n",
       "  'passes_completed': 332,\n",
       "  'fouls_committed': 19,\n",
       "  'colors': ['green', 'gold'],\n",
       "  'players': [{'name': 'Mathew RYAN',\n",
       "    'captain': False,\n",
       "    'shirt_number': 1,\n",
       "    'position': 'Goalie'},\n",
       "   {'name': 'Mark MILLIGAN',\n",
       "    'captain': False,\n",
       "    'shirt_number': 5,\n",
       "    'position': 'Defender'},\n",
       "   {'name': 'Mathew LECKIE',\n",
       "    'captain': False,\n",
       "    'shirt_number': 7,\n",
       "    'position': 'Forward'},\n",
       "   {'name': 'Robbie KRUSE',\n",
       "    'captain': False,\n",
       "    'shirt_number': 10,\n",
       "    'position': 'Forward'},\n",
       "   {'name': 'Andrew NABBOUT',\n",
       "    'captain': False,\n",
       "    'shirt_number': 11,\n",
       "    'position': 'Forward'},\n",
       "   {'name': 'Aaron MOOY',\n",
       "    'captain': False,\n",
       "    'shirt_number': 13,\n",
       "    'position': 'Midfield'},\n",
       "   {'name': 'Mile JEDINAK',\n",
       "    'captain': True,\n",
       "    'shirt_number': 15,\n",
       "    'position': 'Midfield'},\n",
       "   {'name': 'Aziz BEHICH',\n",
       "    'captain': False,\n",
       "    'shirt_number': 16,\n",
       "    'position': 'Defender'},\n",
       "   {'name': 'Joshua RISDON',\n",
       "    'captain': False,\n",
       "    'shirt_number': 19,\n",
       "    'position': 'Defender'},\n",
       "   {'name': 'Trent SAINSBURY',\n",
       "    'captain': False,\n",
       "    'shirt_number': 20,\n",
       "    'position': 'Defender'},\n",
       "   {'name': 'Tom ROGIC',\n",
       "    'captain': False,\n",
       "    'shirt_number': 23,\n",
       "    'position': 'Midfield'}]}]"
      ]
     },
     "execution_count": 3,
     "metadata": {},
     "output_type": "execute_result"
    }
   ],
   "source": [
    "soccer_match\n"
   ]
  },
  {
   "cell_type": "code",
   "execution_count": 5,
   "metadata": {},
   "outputs": [
    {
     "data": {
      "text/html": [
       "<div>\n",
       "<style scoped>\n",
       "    .dataframe tbody tr th:only-of-type {\n",
       "        vertical-align: middle;\n",
       "    }\n",
       "\n",
       "    .dataframe tbody tr th {\n",
       "        vertical-align: top;\n",
       "    }\n",
       "\n",
       "    .dataframe thead th {\n",
       "        text-align: right;\n",
       "    }\n",
       "</style>\n",
       "<table border=\"1\" class=\"dataframe\">\n",
       "  <thead>\n",
       "    <tr style=\"text-align: right;\">\n",
       "      <th></th>\n",
       "      <th>away_team</th>\n",
       "      <th>colors</th>\n",
       "      <th>country</th>\n",
       "      <th>fouls_committed</th>\n",
       "      <th>home_team</th>\n",
       "      <th>num_passes</th>\n",
       "      <th>passes_completed</th>\n",
       "      <th>players</th>\n",
       "    </tr>\n",
       "  </thead>\n",
       "  <tbody>\n",
       "    <tr>\n",
       "      <th>0</th>\n",
       "      <td>False</td>\n",
       "      <td>[blue, white, red]</td>\n",
       "      <td>France</td>\n",
       "      <td>16</td>\n",
       "      <td>True</td>\n",
       "      <td>484</td>\n",
       "      <td>423</td>\n",
       "      <td>[{'name': 'Hugo LLORIS', 'captain': True, 'shi...</td>\n",
       "    </tr>\n",
       "    <tr>\n",
       "      <th>1</th>\n",
       "      <td>True</td>\n",
       "      <td>[green, gold]</td>\n",
       "      <td>Australia</td>\n",
       "      <td>19</td>\n",
       "      <td>False</td>\n",
       "      <td>390</td>\n",
       "      <td>332</td>\n",
       "      <td>[{'name': 'Mathew RYAN', 'captain': False, 'sh...</td>\n",
       "    </tr>\n",
       "  </tbody>\n",
       "</table>\n",
       "</div>"
      ],
      "text/plain": [
       "   away_team              colors    country  fouls_committed  home_team  \\\n",
       "0      False  [blue, white, red]     France               16       True   \n",
       "1       True       [green, gold]  Australia               19      False   \n",
       "\n",
       "   num_passes  passes_completed  \\\n",
       "0         484               423   \n",
       "1         390               332   \n",
       "\n",
       "                                             players  \n",
       "0  [{'name': 'Hugo LLORIS', 'captain': True, 'shi...  \n",
       "1  [{'name': 'Mathew RYAN', 'captain': False, 'sh...  "
      ]
     },
     "execution_count": 5,
     "metadata": {},
     "output_type": "execute_result"
    }
   ],
   "source": [
    "import pandas as pd\n",
    "soccer_match_df = pd.DataFrame(soccer_match)\n",
    "soccer_match_df\n"
   ]
  },
  {
   "cell_type": "markdown",
   "metadata": {},
   "source": [
    "## Countries: A list of strings\n",
    "\n",
    "In the cell below, iterate over the soccer_match list to create a new list with the name of the country for each team"
   ]
  },
  {
   "cell_type": "code",
   "execution_count": 6,
   "metadata": {},
   "outputs": [
    {
     "name": "stdout",
     "output_type": "stream",
     "text": [
      "['France', 'Australia']\n"
     ]
    }
   ],
   "source": [
    "countries = []\n",
    "for a in soccer_match:\n",
    "    countries.append(a['country']) # country is an attribute or key.\n",
    "print(countries)"
   ]
  },
  {
   "cell_type": "code",
   "execution_count": 7,
   "metadata": {},
   "outputs": [
    {
     "data": {
      "text/plain": [
       "['France', 'Australia']"
      ]
     },
     "execution_count": 7,
     "metadata": {},
     "output_type": "execute_result"
    }
   ],
   "source": [
    "# iterate over the soccer_match list to create a new list with the name of the country for each team\n",
    "countries = [team['country'] for team in soccer_match]\n",
    "countries\n",
    "# code goes here"
   ]
  },
  {
   "cell_type": "code",
   "execution_count": null,
   "metadata": {},
   "outputs": [],
   "source": []
  },
  {
   "cell_type": "markdown",
   "metadata": {},
   "source": [
    "## Colors: Another list of strings!\n",
    "\n",
    "In the cell below, iterate over the soccer_match list to create a new list with the colors for each team this should be only one list containing strings for each of the country's colors."
   ]
  },
  {
   "cell_type": "code",
   "execution_count": 8,
   "metadata": {},
   "outputs": [
    {
     "name": "stdout",
     "output_type": "stream",
     "text": [
      "['blue', 'white', 'red', 'green', 'gold']\n"
     ]
    }
   ],
   "source": [
    "# iterate over the soccer_match list to create a new list with the colors for \n",
    "#each team\n",
    "# this should be only one list containing strings for each of the \n",
    "#country's colors\n",
    "colors = []\n",
    "for i in range(len(soccer_match)):\n",
    "    colors += soccer_match[i]['colors']\n",
    "print(colors)\n",
    "\n",
    "# code goes here"
   ]
  },
  {
   "cell_type": "markdown",
   "metadata": {},
   "source": [
    "## Players: A list of dictionaries\n",
    "\n",
    "This time, iterate over the soccer_match list to create a new list with the players from each team. `players` should be a single list containing the dictionaries for each of the country's players."
   ]
  },
  {
   "cell_type": "code",
   "execution_count": 9,
   "metadata": {},
   "outputs": [
    {
     "data": {
      "text/plain": [
       "[{'name': 'Hugo LLORIS',\n",
       "  'captain': True,\n",
       "  'shirt_number': 1,\n",
       "  'position': 'Goalie'},\n",
       " {'name': 'Benjamin PAVARD',\n",
       "  'captain': False,\n",
       "  'shirt_number': 2,\n",
       "  'position': 'Defender'},\n",
       " {'name': 'Raphael VARANE',\n",
       "  'captain': False,\n",
       "  'shirt_number': 4,\n",
       "  'position': 'Defender'},\n",
       " {'name': 'Samuel UMTITI',\n",
       "  'captain': False,\n",
       "  'shirt_number': 5,\n",
       "  'position': 'Defender'},\n",
       " {'name': 'Paul POGBA',\n",
       "  'captain': False,\n",
       "  'shirt_number': 6,\n",
       "  'position': 'Midfield'},\n",
       " {'name': 'Antoine GRIEZMANN',\n",
       "  'captain': False,\n",
       "  'shirt_number': 7,\n",
       "  'position': 'Forward'},\n",
       " {'name': 'Kylian MBAPPE',\n",
       "  'captain': False,\n",
       "  'shirt_number': 10,\n",
       "  'position': 'Forward'},\n",
       " {'name': 'Ousmane DEMBELE',\n",
       "  'captain': False,\n",
       "  'shirt_number': 11,\n",
       "  'position': 'Forward'},\n",
       " {'name': 'Corentin TOLISSO',\n",
       "  'captain': False,\n",
       "  'shirt_number': 12,\n",
       "  'position': 'Midfield'},\n",
       " {'name': 'Ngolo KANTE',\n",
       "  'captain': False,\n",
       "  'shirt_number': 13,\n",
       "  'position': 'Midfield'},\n",
       " {'name': 'Lucas HERNANDEZ',\n",
       "  'captain': False,\n",
       "  'shirt_number': 21,\n",
       "  'position': 'Defender'},\n",
       " {'name': 'Mathew RYAN',\n",
       "  'captain': False,\n",
       "  'shirt_number': 1,\n",
       "  'position': 'Goalie'},\n",
       " {'name': 'Mark MILLIGAN',\n",
       "  'captain': False,\n",
       "  'shirt_number': 5,\n",
       "  'position': 'Defender'},\n",
       " {'name': 'Mathew LECKIE',\n",
       "  'captain': False,\n",
       "  'shirt_number': 7,\n",
       "  'position': 'Forward'},\n",
       " {'name': 'Robbie KRUSE',\n",
       "  'captain': False,\n",
       "  'shirt_number': 10,\n",
       "  'position': 'Forward'},\n",
       " {'name': 'Andrew NABBOUT',\n",
       "  'captain': False,\n",
       "  'shirt_number': 11,\n",
       "  'position': 'Forward'},\n",
       " {'name': 'Aaron MOOY',\n",
       "  'captain': False,\n",
       "  'shirt_number': 13,\n",
       "  'position': 'Midfield'},\n",
       " {'name': 'Mile JEDINAK',\n",
       "  'captain': True,\n",
       "  'shirt_number': 15,\n",
       "  'position': 'Midfield'},\n",
       " {'name': 'Aziz BEHICH',\n",
       "  'captain': False,\n",
       "  'shirt_number': 16,\n",
       "  'position': 'Defender'},\n",
       " {'name': 'Joshua RISDON',\n",
       "  'captain': False,\n",
       "  'shirt_number': 19,\n",
       "  'position': 'Defender'},\n",
       " {'name': 'Trent SAINSBURY',\n",
       "  'captain': False,\n",
       "  'shirt_number': 20,\n",
       "  'position': 'Defender'},\n",
       " {'name': 'Tom ROGIC',\n",
       "  'captain': False,\n",
       "  'shirt_number': 23,\n",
       "  'position': 'Midfield'}]"
      ]
     },
     "execution_count": 9,
     "metadata": {},
     "output_type": "execute_result"
    }
   ],
   "source": [
    "players = []\n",
    "for i in range(len(soccer_match)):\n",
    "    players += soccer_match[i]['players']\n",
    "players\n",
    "    \n",
    "# code goes here"
   ]
  },
  {
   "cell_type": "markdown",
   "metadata": {},
   "source": [
    "## Captains: Another list of dictionaries!\n",
    "\n",
    "Iterate over the soccer_match list to create a new list with the captains from each team.\n",
    "This should be a single list containing the dictionaries for each of the country's captains."
   ]
  },
  {
   "cell_type": "code",
   "execution_count": 23,
   "metadata": {},
   "outputs": [
    {
     "data": {
      "text/plain": [
       "[{'name': 'Tom ROGIC',\n",
       "  'captain': False,\n",
       "  'shirt_number': 23,\n",
       "  'position': 'Midfield'},\n",
       " {'name': 'Tom ROGIC',\n",
       "  'captain': False,\n",
       "  'shirt_number': 23,\n",
       "  'position': 'Midfield'}]"
      ]
     },
     "execution_count": 23,
     "metadata": {},
     "output_type": "execute_result"
    }
   ],
   "source": [
    "\n",
    "captains = []\n",
    "for player in players:\n",
    "    if player['captain'] == True:\n",
    "        captains.append(i)\n",
    "        \n",
    "captains\n",
    "# code goes here"
   ]
  },
  {
   "cell_type": "markdown",
   "metadata": {},
   "source": [
    "## Home Team Players: A third list of dictionaries.\n",
    "\n",
    "Iterate over the soccer_match list to create a new list with the players from ONLY the home team."
   ]
  },
  {
   "cell_type": "code",
   "execution_count": 25,
   "metadata": {},
   "outputs": [
    {
     "data": {
      "text/plain": [
       "[{'name': 'Hugo LLORIS',\n",
       "  'captain': True,\n",
       "  'shirt_number': 1,\n",
       "  'position': 'Goalie'},\n",
       " {'name': 'Benjamin PAVARD',\n",
       "  'captain': False,\n",
       "  'shirt_number': 2,\n",
       "  'position': 'Defender'},\n",
       " {'name': 'Raphael VARANE',\n",
       "  'captain': False,\n",
       "  'shirt_number': 4,\n",
       "  'position': 'Defender'},\n",
       " {'name': 'Samuel UMTITI',\n",
       "  'captain': False,\n",
       "  'shirt_number': 5,\n",
       "  'position': 'Defender'},\n",
       " {'name': 'Paul POGBA',\n",
       "  'captain': False,\n",
       "  'shirt_number': 6,\n",
       "  'position': 'Midfield'},\n",
       " {'name': 'Antoine GRIEZMANN',\n",
       "  'captain': False,\n",
       "  'shirt_number': 7,\n",
       "  'position': 'Forward'},\n",
       " {'name': 'Kylian MBAPPE',\n",
       "  'captain': False,\n",
       "  'shirt_number': 10,\n",
       "  'position': 'Forward'},\n",
       " {'name': 'Ousmane DEMBELE',\n",
       "  'captain': False,\n",
       "  'shirt_number': 11,\n",
       "  'position': 'Forward'},\n",
       " {'name': 'Corentin TOLISSO',\n",
       "  'captain': False,\n",
       "  'shirt_number': 12,\n",
       "  'position': 'Midfield'},\n",
       " {'name': 'Ngolo KANTE',\n",
       "  'captain': False,\n",
       "  'shirt_number': 13,\n",
       "  'position': 'Midfield'},\n",
       " {'name': 'Lucas HERNANDEZ',\n",
       "  'captain': False,\n",
       "  'shirt_number': 21,\n",
       "  'position': 'Defender'}]"
      ]
     },
     "execution_count": 25,
     "metadata": {},
     "output_type": "execute_result"
    }
   ],
   "source": [
    "home_team_players = []\n",
    "for team in soccer_match:\n",
    "    if team['home_team'] == True:\n",
    "        home_team_players += team['players']\n",
    "home_team_players\n",
    "# code goes here"
   ]
  },
  {
   "cell_type": "markdown",
   "metadata": {},
   "source": [
    "## Away Team Forwards: Yup, a list of dictionaries.\n",
    "\n",
    "Iterate over the soccer_match list to create a new list with the information for each of the away team players whose `position` is `\"Forward\"`."
   ]
  },
  {
   "cell_type": "code",
   "execution_count": 28,
   "metadata": {},
   "outputs": [
    {
     "data": {
      "text/plain": [
       "[{'name': 'Hugo LLORIS',\n",
       "  'captain': True,\n",
       "  'shirt_number': 1,\n",
       "  'position': 'Goalie'},\n",
       " {'name': 'Benjamin PAVARD',\n",
       "  'captain': False,\n",
       "  'shirt_number': 2,\n",
       "  'position': 'Defender'},\n",
       " {'name': 'Raphael VARANE',\n",
       "  'captain': False,\n",
       "  'shirt_number': 4,\n",
       "  'position': 'Defender'},\n",
       " {'name': 'Samuel UMTITI',\n",
       "  'captain': False,\n",
       "  'shirt_number': 5,\n",
       "  'position': 'Defender'},\n",
       " {'name': 'Paul POGBA',\n",
       "  'captain': False,\n",
       "  'shirt_number': 6,\n",
       "  'position': 'Midfield'},\n",
       " {'name': 'Antoine GRIEZMANN',\n",
       "  'captain': False,\n",
       "  'shirt_number': 7,\n",
       "  'position': 'Forward'},\n",
       " {'name': 'Kylian MBAPPE',\n",
       "  'captain': False,\n",
       "  'shirt_number': 10,\n",
       "  'position': 'Forward'},\n",
       " {'name': 'Ousmane DEMBELE',\n",
       "  'captain': False,\n",
       "  'shirt_number': 11,\n",
       "  'position': 'Forward'},\n",
       " {'name': 'Corentin TOLISSO',\n",
       "  'captain': False,\n",
       "  'shirt_number': 12,\n",
       "  'position': 'Midfield'},\n",
       " {'name': 'Ngolo KANTE',\n",
       "  'captain': False,\n",
       "  'shirt_number': 13,\n",
       "  'position': 'Midfield'},\n",
       " {'name': 'Lucas HERNANDEZ',\n",
       "  'captain': False,\n",
       "  'shirt_number': 21,\n",
       "  'position': 'Defender'},\n",
       " 'name',\n",
       " 'captain',\n",
       " 'shirt_number',\n",
       " 'position',\n",
       " 'name',\n",
       " 'captain',\n",
       " 'shirt_number',\n",
       " 'position',\n",
       " 'name',\n",
       " 'captain',\n",
       " 'shirt_number',\n",
       " 'position']"
      ]
     },
     "execution_count": 28,
     "metadata": {},
     "output_type": "execute_result"
    }
   ],
   "source": [
    "away_team_forwards = []\n",
    "for team in soccer_match:\n",
    "    if team['away_team'] == True:\n",
    "        for player in team['players']:\n",
    "            if player['position'] == 'Forward':\n",
    "                home_team_players += player\n",
    "home_team_players\n",
    "# code goes here"
   ]
  },
  {
   "cell_type": "markdown",
   "metadata": {},
   "source": [
    "## Player with the Highest Number\n",
    "\n",
    "Iterate over the soccer_match list and find the player with the highest shirt_number.  \n",
    "Store this player's information in the `player_with_highest_num` variable."
   ]
  },
  {
   "cell_type": "code",
   "execution_count": 11,
   "metadata": {},
   "outputs": [
    {
     "ename": "TypeError",
     "evalue": "list indices must be integers or slices, not dict",
     "output_type": "error",
     "traceback": [
      "\u001b[0;31m\u001b[0m",
      "\u001b[0;31mTypeError\u001b[0mTraceback (most recent call last)",
      "\u001b[0;32m<ipython-input-11-19f3464f1b7b>\u001b[0m in \u001b[0;36m<module>\u001b[0;34m()\u001b[0m\n\u001b[1;32m      8\u001b[0m \u001b[0;31m#players\u001b[0m\u001b[0;34m\u001b[0m\u001b[0;34m\u001b[0m\u001b[0m\n\u001b[1;32m      9\u001b[0m \u001b[0;32mfor\u001b[0m \u001b[0mplayer\u001b[0m \u001b[0;32min\u001b[0m \u001b[0mplayers\u001b[0m\u001b[0;34m:\u001b[0m\u001b[0;34m\u001b[0m\u001b[0m\n\u001b[0;32m---> 10\u001b[0;31m     \u001b[0mplayer_shirts\u001b[0m \u001b[0;34m+=\u001b[0m \u001b[0mplayers\u001b[0m\u001b[0;34m[\u001b[0m\u001b[0mplayer\u001b[0m\u001b[0;34m]\u001b[0m\u001b[0;34m[\u001b[0m\u001b[0;34m'shirt_number'\u001b[0m\u001b[0;34m]\u001b[0m\u001b[0;34m\u001b[0m\u001b[0m\n\u001b[0m\u001b[1;32m     11\u001b[0m \u001b[0mprint\u001b[0m\u001b[0;34m(\u001b[0m\u001b[0mplayer_shirts\u001b[0m\u001b[0;34m)\u001b[0m\u001b[0;34m\u001b[0m\u001b[0m\n\u001b[1;32m     12\u001b[0m \u001b[0;34m\u001b[0m\u001b[0m\n",
      "\u001b[0;31mTypeError\u001b[0m: list indices must be integers or slices, not dict"
     ]
    }
   ],
   "source": [
    "player_with_highest_num = None\n",
    "\n",
    "# build a list of all players\n",
    "players = []\n",
    "for i in range(len(soccer_match)):\n",
    "    players += soccer_match[i]['players']\n",
    "    \n",
    "players\n",
    "\n",
    "                \n",
    "#home_team_players\n",
    "    \n",
    "# code goes here"
   ]
  },
  {
   "cell_type": "markdown",
   "metadata": {},
   "source": [
    "## Player Names: A Cleaned List\n",
    "\n",
    "Notice that the players oddly have have their last name's in all caps. Create a list of all the names of the players in this match. Be sure to make sure their first and last names are properly capitalized (first letter upper case, proceeding letters lower case), as opposed to how they are currently formatted."
   ]
  },
  {
   "cell_type": "code",
   "execution_count": null,
   "metadata": {},
   "outputs": [],
   "source": [
    "player_names = None\n",
    "# code goes here"
   ]
  },
  {
   "cell_type": "markdown",
   "metadata": {},
   "source": [
    "## Summary"
   ]
  },
  {
   "cell_type": "markdown",
   "metadata": {},
   "source": [
    "In this lab, you practiced using nested loops to iterate through a nested data structure using data from a soccer match. Nested data structures can be quite complicated and it can become difficult to access more nested data. With nested loops, you are able to dynamically access this nested data and work with it as you would with a flatter data structure. It is important to think about the structure of the data before and while you're working so you know exactly what data you are working with at each level."
   ]
  }
 ],
 "metadata": {
  "kernelspec": {
   "display_name": "Python 3",
   "language": "python",
   "name": "python3"
  },
  "language_info": {
   "codemirror_mode": {
    "name": "ipython",
    "version": 3
   },
   "file_extension": ".py",
   "mimetype": "text/x-python",
   "name": "python",
   "nbconvert_exporter": "python",
   "pygments_lexer": "ipython3",
   "version": "3.6.6"
  }
 },
 "nbformat": 4,
 "nbformat_minor": 2
}
